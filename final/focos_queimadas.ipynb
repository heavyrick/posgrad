{
 "cells": [
  {
   "cell_type": "markdown",
   "id": "trying-watershed",
   "metadata": {},
   "source": [
    "# Modelos preditivos de queimadas no Brasil\n",
    "\n",
    "---\n",
    "\n",
    "## Introdução\n",
    "\n",
    "O tema da preservação do meio ambiente está desde sempre presente no nosso dia a dia, e é um tema cada vez mais importante, dada a constante exploração da natureza e suas consequências que ameaçam a sobrevivência da própria espécie humana. \n",
    "\n",
    "As queimadas são uns dos principais problemas, que pelo menos no Brasil, (ainda) são consideradas crimes contra a natureza, se não feitas com licença do orgão ambiental competente.\n",
    "\n",
    "As queimadas devastam áreas inteiras de vegetação, matam e expulsam a fauna, prejudicam o solo, emitem gases poluentes e fumaça que fazem mal à saúde dos animais (humanos inclusos), além de aumentar a temperatura como um todo, contribuindo para o famigerado aquecimento global e efeito estufa.\n",
    "\n",
    "Existem dois fatores principais para as queimadas: o natural e o humano. No primeiro, se deve a incidência de descargas elétricas em áreas de pastagens, e também atividades vulcânicas. No segundo caso, são provocadas pelo ação humana, deliberada ou não, como queimadas para limpeza, balões, bitucas de cigarro, entre outras causas.\n",
    "\n",
    "Para quem pratica a atividade agropecuária, é comum que nas épocas de maior seca, seja aproveitado para executar as tais limpezas no solo para o plantio. No caso de países com uma economia desindustrializada e dependente da exportação de commodities agrícolas, há um aumento constante dessas atividades, e com isso uma expansão cada vez maior das fronteiras agrícolas. Para que isso possa ocorrer, taca-se fogo em tudo o que há pela frente, de forma criminosa, em hectares e mais hectares de natureza.\n",
    "\n",
    "Uma das soluções passa nas opções que o país faz, em investir tão pouco numa econômia industrial, e tanto na exportação de produtos vindos da agropecuária. Outra solução _ que não resolve _ é o da exploração responsável, onde nesse caso são adotados sistemas de monitoramento e fiscalicação eficientes por parte do poder público, e leis severas que punem de fato quem faz os chamados desmatamentos ilegais. A questão é o que o país entende por desmatamento ilegal. Achar que apenas agir dentro da lei não é suficiente, no sentido de proteger o meio ambiente, se tais leis continuarem a ser tão permissivas.\n",
    "\n",
    "Seja como for, há de pelo menos começarmos a fazer o mínimo, e ir elevando a consciência popular para as questões do meio ambiente.\n",
    "\n",
    "Neste relatório técnico, o objetivo é através de algoritmos, criar previsões de queimadas."
   ]
  },
  {
   "cell_type": "markdown",
   "id": "9ff5b115-f9ff-4089-8a65-baa90f940116",
   "metadata": {},
   "source": [
    "**2 - Abordagem de Aprendizado de Máquina para tratar o problema (descrição da tarefa e algoritmos a serem utilizados)**\n",
    "\n",
    "Pensar a partir da análise já iniciada abaixo, quais algoritmos serão utilizados. Acredito que análises preditivas são as mais adequadas, para criar um relatório para os usuários que será capaz de apontar quais locais estão mais propensos a terem queimadas, e em qual época, e precisam de mais atenção das autoridades e da sociedade civil.\n"
   ]
  },
  {
   "cell_type": "markdown",
   "id": "d1842f5d-dc8a-4480-9f63-dbaee7ac1ebb",
   "metadata": {},
   "source": [
    "## Coleta de Dados\n",
    "\n",
    "Os dados desta análise foram coletados a partir do Portal Queimadas do INPE (Instituto Nacional de Pesquisas Espaciais). Foram feitas extrações do período de 8 anos, ou seja, entre janeiro de 2015 e junho de 2022. A escolha desse período se deu pela completude dos dados no portal, valores de risco fogo, frp, dias sem chuva, por exemplo, não eram coletados previamente a esse período.\n",
    "\n",
    "Os filtros utilizados foram:\n",
    "\n",
    "- Continentes: América do Sul\n",
    "- Países: Brasil\n",
    "- Estados: Todos os estados\n",
    "- Data Início: 01/01/ano\n",
    "- Data Fim: 31/12/ano\n",
    "- Satélites: Satélite de referência (Aqua Tarde)\n",
    "- Biomas: Todos\n",
    "- Formato de exportação: CSV\n",
    "\n",
    "Satélite:\n",
    "\n",
    "- Aqua: https://www.embrapa.br/satelites-de-monitoramento/missoes/aqua\n",
    "- Sensor MODIS: https://mundogeo.com/2004/05/23/o-sensor-modis-a-bordo-das-plataformas-terra-e-acqua/"
   ]
  },
  {
   "cell_type": "code",
   "execution_count": 1,
   "id": "c2a89b80-9040-4763-b764-658c2d5e7180",
   "metadata": {},
   "outputs": [],
   "source": [
    "# Bibliotecas\n",
    "\n",
    "import pandas as pd\n",
    "import numpy as np\n",
    "import json\n",
    "\n",
    "import matplotlib.pyplot as plt\n",
    "%matplotlib inline\n",
    "import seaborn as sns\n",
    "\n",
    "from datetime import datetime, timezone, timedelta, time, date\n",
    "from os.path import exists\n",
    "\n",
    "%load_ext autoreload\n",
    "%autoreload 2\n",
    "\n",
    "from Funcoes import Funcoes"
   ]
  },
  {
   "cell_type": "markdown",
   "id": "367a1954-6a36-4daa-93e0-947cd7bdef14",
   "metadata": {},
   "source": [
    "## Processamento/Tratamento de Dados\n",
    "\n",
    "Como o portal limita a coleta de dados a no máximo 1 ano, foram feitas coletas anuais de dados. Portanto, há a necessidade de unir todos os arquivos csv num único.\n",
    "\n",
    "Mas esse processo não precisa ser repetido sempre. Na primeira execução do projeto ele verifica se o arquivo concatenado foi criado, se não o cria."
   ]
  },
  {
   "cell_type": "code",
   "execution_count": 2,
   "id": "6a648517-cadc-499c-9c74-bacbf5cac306",
   "metadata": {},
   "outputs": [],
   "source": [
    "# importar dados\n",
    "\n",
    "arquivo_csv = 'dados/focos_queimadas.csv'\n",
    "\n",
    "if not exists(arquivo_csv):\n",
    "    Funcoes.unir_arquivos()\n",
    "    \n",
    "df_focos_queimadas = pd.read_csv(arquivo_csv, sep=',', encoding='latin 1')"
   ]
  },
  {
   "cell_type": "code",
   "execution_count": 3,
   "id": "timely-billion",
   "metadata": {},
   "outputs": [
    {
     "data": {
      "text/html": [
       "<div>\n",
       "<style scoped>\n",
       "    .dataframe tbody tr th:only-of-type {\n",
       "        vertical-align: middle;\n",
       "    }\n",
       "\n",
       "    .dataframe tbody tr th {\n",
       "        vertical-align: top;\n",
       "    }\n",
       "\n",
       "    .dataframe thead th {\n",
       "        text-align: right;\n",
       "    }\n",
       "</style>\n",
       "<table border=\"1\" class=\"dataframe\">\n",
       "  <thead>\n",
       "    <tr style=\"text-align: right;\">\n",
       "      <th></th>\n",
       "      <th>datahora</th>\n",
       "      <th>satelite</th>\n",
       "      <th>pais</th>\n",
       "      <th>estado</th>\n",
       "      <th>municipio</th>\n",
       "      <th>bioma</th>\n",
       "      <th>diasemchuva</th>\n",
       "      <th>precipitacao</th>\n",
       "      <th>riscofogo</th>\n",
       "      <th>latitude</th>\n",
       "      <th>longitude</th>\n",
       "      <th>frp</th>\n",
       "    </tr>\n",
       "  </thead>\n",
       "  <tbody>\n",
       "    <tr>\n",
       "      <th>0</th>\n",
       "      <td>2015/11/07 16:30:00</td>\n",
       "      <td>AQUA_M-T</td>\n",
       "      <td>Brasil</td>\n",
       "      <td>PARA</td>\n",
       "      <td>PORTEL</td>\n",
       "      <td>Amazonia</td>\n",
       "      <td>4.0</td>\n",
       "      <td>0.1</td>\n",
       "      <td>0.6</td>\n",
       "      <td>-2.245</td>\n",
       "      <td>-50.667</td>\n",
       "      <td>NaN</td>\n",
       "    </tr>\n",
       "    <tr>\n",
       "      <th>1</th>\n",
       "      <td>2015/04/02 16:46:00</td>\n",
       "      <td>AQUA_M-T</td>\n",
       "      <td>Brasil</td>\n",
       "      <td>TOCANTINS</td>\n",
       "      <td>PEIXE</td>\n",
       "      <td>Cerrado</td>\n",
       "      <td>1.0</td>\n",
       "      <td>0.1</td>\n",
       "      <td>0.3</td>\n",
       "      <td>-11.994</td>\n",
       "      <td>-48.548</td>\n",
       "      <td>NaN</td>\n",
       "    </tr>\n",
       "    <tr>\n",
       "      <th>2</th>\n",
       "      <td>2015/03/23 17:47:00</td>\n",
       "      <td>AQUA_M-T</td>\n",
       "      <td>Brasil</td>\n",
       "      <td>MATO GROSSO</td>\n",
       "      <td>FELIZ NATAL</td>\n",
       "      <td>Amazonia</td>\n",
       "      <td>3.0</td>\n",
       "      <td>0.4</td>\n",
       "      <td>0.2</td>\n",
       "      <td>-12.185</td>\n",
       "      <td>-54.405</td>\n",
       "      <td>NaN</td>\n",
       "    </tr>\n",
       "    <tr>\n",
       "      <th>3</th>\n",
       "      <td>2015/02/21 17:39:00</td>\n",
       "      <td>AQUA_M-T</td>\n",
       "      <td>Brasil</td>\n",
       "      <td>RORAIMA</td>\n",
       "      <td>IRACEMA</td>\n",
       "      <td>Amazonia</td>\n",
       "      <td>20.0</td>\n",
       "      <td>0.0</td>\n",
       "      <td>1.0</td>\n",
       "      <td>2.247</td>\n",
       "      <td>-61.527</td>\n",
       "      <td>NaN</td>\n",
       "    </tr>\n",
       "    <tr>\n",
       "      <th>4</th>\n",
       "      <td>2015/08/02 17:25:00</td>\n",
       "      <td>AQUA_M-T</td>\n",
       "      <td>Brasil</td>\n",
       "      <td>PARA</td>\n",
       "      <td>ORIXIMINA</td>\n",
       "      <td>Amazonia</td>\n",
       "      <td>0.0</td>\n",
       "      <td>0.1</td>\n",
       "      <td>0.8</td>\n",
       "      <td>-1.754</td>\n",
       "      <td>-55.686</td>\n",
       "      <td>NaN</td>\n",
       "    </tr>\n",
       "  </tbody>\n",
       "</table>\n",
       "</div>"
      ],
      "text/plain": [
       "              datahora  satelite    pais       estado    municipio     bioma  \\\n",
       "0  2015/11/07 16:30:00  AQUA_M-T  Brasil         PARA       PORTEL  Amazonia   \n",
       "1  2015/04/02 16:46:00  AQUA_M-T  Brasil    TOCANTINS        PEIXE   Cerrado   \n",
       "2  2015/03/23 17:47:00  AQUA_M-T  Brasil  MATO GROSSO  FELIZ NATAL  Amazonia   \n",
       "3  2015/02/21 17:39:00  AQUA_M-T  Brasil      RORAIMA      IRACEMA  Amazonia   \n",
       "4  2015/08/02 17:25:00  AQUA_M-T  Brasil         PARA    ORIXIMINA  Amazonia   \n",
       "\n",
       "   diasemchuva  precipitacao  riscofogo  latitude  longitude  frp  \n",
       "0          4.0           0.1        0.6    -2.245    -50.667  NaN  \n",
       "1          1.0           0.1        0.3   -11.994    -48.548  NaN  \n",
       "2          3.0           0.4        0.2   -12.185    -54.405  NaN  \n",
       "3         20.0           0.0        1.0     2.247    -61.527  NaN  \n",
       "4          0.0           0.1        0.8    -1.754    -55.686  NaN  "
      ]
     },
     "execution_count": 3,
     "metadata": {},
     "output_type": "execute_result"
    }
   ],
   "source": [
    "df_focos_queimadas.head()"
   ]
  },
  {
   "cell_type": "code",
   "execution_count": 4,
   "id": "7fb18922-9ea3-4258-8978-497645018472",
   "metadata": {},
   "outputs": [
    {
     "name": "stdout",
     "output_type": "stream",
     "text": [
      "<class 'pandas.core.frame.DataFrame'>\n",
      "RangeIndex: 1368553 entries, 0 to 1368552\n",
      "Data columns (total 12 columns):\n",
      " #   Column        Non-Null Count    Dtype  \n",
      "---  ------        --------------    -----  \n",
      " 0   datahora      1368553 non-null  object \n",
      " 1   satelite      1368553 non-null  object \n",
      " 2   pais          1368553 non-null  object \n",
      " 3   estado        1368553 non-null  object \n",
      " 4   municipio     1368553 non-null  object \n",
      " 5   bioma         1368553 non-null  object \n",
      " 6   diasemchuva   1367223 non-null  float64\n",
      " 7   precipitacao  1367223 non-null  float64\n",
      " 8   riscofogo     1367223 non-null  float64\n",
      " 9   latitude      1368553 non-null  float64\n",
      " 10  longitude     1368553 non-null  float64\n",
      " 11  frp           757417 non-null   float64\n",
      "dtypes: float64(6), object(6)\n",
      "memory usage: 125.3+ MB\n"
     ]
    }
   ],
   "source": [
    "df_focos_queimadas.info()"
   ]
  },
  {
   "cell_type": "markdown",
   "id": "a499c52a-2d81-4a42-8725-52b4fb506a57",
   "metadata": {},
   "source": [
    "De cara é possível perceber que existem dados faltantes para `diasemchuva`, `precipitacao`, `riscofogo` e principalmente `frp`. Depois será necessário verificar como proceder nestes casos."
   ]
  },
  {
   "cell_type": "code",
   "execution_count": 5,
   "id": "842ea818-bf85-4536-9a3a-0a06610d372d",
   "metadata": {},
   "outputs": [
    {
     "data": {
      "text/html": [
       "<div>\n",
       "<style scoped>\n",
       "    .dataframe tbody tr th:only-of-type {\n",
       "        vertical-align: middle;\n",
       "    }\n",
       "\n",
       "    .dataframe tbody tr th {\n",
       "        vertical-align: top;\n",
       "    }\n",
       "\n",
       "    .dataframe thead th {\n",
       "        text-align: right;\n",
       "    }\n",
       "</style>\n",
       "<table border=\"1\" class=\"dataframe\">\n",
       "  <thead>\n",
       "    <tr style=\"text-align: right;\">\n",
       "      <th></th>\n",
       "      <th>diasemchuva</th>\n",
       "      <th>precipitacao</th>\n",
       "      <th>riscofogo</th>\n",
       "      <th>latitude</th>\n",
       "      <th>longitude</th>\n",
       "      <th>frp</th>\n",
       "    </tr>\n",
       "  </thead>\n",
       "  <tbody>\n",
       "    <tr>\n",
       "      <th>count</th>\n",
       "      <td>1.367223e+06</td>\n",
       "      <td>1.367223e+06</td>\n",
       "      <td>1.367223e+06</td>\n",
       "      <td>1.368553e+06</td>\n",
       "      <td>1.368553e+06</td>\n",
       "      <td>757417.000000</td>\n",
       "    </tr>\n",
       "    <tr>\n",
       "      <th>mean</th>\n",
       "      <td>9.504688e+00</td>\n",
       "      <td>7.087691e-01</td>\n",
       "      <td>-4.706983e+00</td>\n",
       "      <td>-1.031434e+01</td>\n",
       "      <td>-5.207692e+01</td>\n",
       "      <td>62.193874</td>\n",
       "    </tr>\n",
       "    <tr>\n",
       "      <th>std</th>\n",
       "      <td>8.999016e+01</td>\n",
       "      <td>2.981452e+00</td>\n",
       "      <td>7.363247e+01</td>\n",
       "      <td>6.385679e+00</td>\n",
       "      <td>7.709857e+00</td>\n",
       "      <td>139.726603</td>\n",
       "    </tr>\n",
       "    <tr>\n",
       "      <th>min</th>\n",
       "      <td>-9.990000e+02</td>\n",
       "      <td>0.000000e+00</td>\n",
       "      <td>-9.990000e+02</td>\n",
       "      <td>-3.370900e+01</td>\n",
       "      <td>-7.367366e+01</td>\n",
       "      <td>0.000000</td>\n",
       "    </tr>\n",
       "    <tr>\n",
       "      <th>25%</th>\n",
       "      <td>1.000000e+00</td>\n",
       "      <td>0.000000e+00</td>\n",
       "      <td>5.000000e-01</td>\n",
       "      <td>-1.364400e+01</td>\n",
       "      <td>-5.704700e+01</td>\n",
       "      <td>15.000000</td>\n",
       "    </tr>\n",
       "    <tr>\n",
       "      <th>50%</th>\n",
       "      <td>5.000000e+00</td>\n",
       "      <td>0.000000e+00</td>\n",
       "      <td>1.000000e+00</td>\n",
       "      <td>-9.390000e+00</td>\n",
       "      <td>-5.101300e+01</td>\n",
       "      <td>28.200000</td>\n",
       "    </tr>\n",
       "    <tr>\n",
       "      <th>75%</th>\n",
       "      <td>1.700000e+01</td>\n",
       "      <td>1.000000e-01</td>\n",
       "      <td>1.000000e+00</td>\n",
       "      <td>-6.033000e+00</td>\n",
       "      <td>-4.605900e+01</td>\n",
       "      <td>59.000000</td>\n",
       "    </tr>\n",
       "    <tr>\n",
       "      <th>max</th>\n",
       "      <td>8.270000e+02</td>\n",
       "      <td>1.430000e+02</td>\n",
       "      <td>1.000000e+00</td>\n",
       "      <td>5.154000e+00</td>\n",
       "      <td>-3.481600e+01</td>\n",
       "      <td>9612.200000</td>\n",
       "    </tr>\n",
       "  </tbody>\n",
       "</table>\n",
       "</div>"
      ],
      "text/plain": [
       "        diasemchuva  precipitacao     riscofogo      latitude     longitude  \\\n",
       "count  1.367223e+06  1.367223e+06  1.367223e+06  1.368553e+06  1.368553e+06   \n",
       "mean   9.504688e+00  7.087691e-01 -4.706983e+00 -1.031434e+01 -5.207692e+01   \n",
       "std    8.999016e+01  2.981452e+00  7.363247e+01  6.385679e+00  7.709857e+00   \n",
       "min   -9.990000e+02  0.000000e+00 -9.990000e+02 -3.370900e+01 -7.367366e+01   \n",
       "25%    1.000000e+00  0.000000e+00  5.000000e-01 -1.364400e+01 -5.704700e+01   \n",
       "50%    5.000000e+00  0.000000e+00  1.000000e+00 -9.390000e+00 -5.101300e+01   \n",
       "75%    1.700000e+01  1.000000e-01  1.000000e+00 -6.033000e+00 -4.605900e+01   \n",
       "max    8.270000e+02  1.430000e+02  1.000000e+00  5.154000e+00 -3.481600e+01   \n",
       "\n",
       "                 frp  \n",
       "count  757417.000000  \n",
       "mean       62.193874  \n",
       "std       139.726603  \n",
       "min         0.000000  \n",
       "25%        15.000000  \n",
       "50%        28.200000  \n",
       "75%        59.000000  \n",
       "max      9612.200000  "
      ]
     },
     "execution_count": 5,
     "metadata": {},
     "output_type": "execute_result"
    }
   ],
   "source": [
    "df_focos_queimadas.describe()"
   ]
  },
  {
   "cell_type": "markdown",
   "id": "suspended-commercial",
   "metadata": {},
   "source": [
    "Das colunas que temos, vamos trabalhar com as seguintes:\n",
    "\n",
    "- **datahora**: Horário de referência da passagem do satélite segundo o fuso horário de Greenwich (GMT);\n",
    "- **satelite**: Nome do algoritmo utilizado e referência ao satélite provedor da imagem;\n",
    "- **pais**: Nome do país;\n",
    "- **estado**: Nome da unidade federativa;\n",
    "- **municipio**: Nome do município. Para o Brasil foi utilizado como referência o dado do IBGE 2000;\n",
    "- **bioma** uma unidade biológica ou espaço geográfico cujas características específicas são definidas pelo macroclima, o solo, a altitude, dentre outros critérios;\n",
    "- **diasemchuva**: Número de dias sem chuva até a detecção do foco;\n",
    "- **precipitacao**: Valor da precipitação acumulada no dia até o momento da detecção do foco (milímetros por dia);\n",
    "- **riscofogo**: Valor do Risco de Fogo previsto para o dia da detecção do foco (Vai de 0 até 1, e o valor 777.7 significa que é valor inválido);\n",
    "- **latitude**: Latitude do foco do incêndio \n",
    "- **longitude**: Longitude do foco do incêndio\n",
    "- **frp**: Fire Radiative Power (Energia Radiativa do Fogo, intensidade da queimada), valor em MW (megawatts)."
   ]
  },
  {
   "cell_type": "markdown",
   "id": "continent-daniel",
   "metadata": {},
   "source": [
    "### Tratar dados\n",
    "\n",
    "Excluir colunas indesejadas e procurar por valores nulos e faltantes."
   ]
  },
  {
   "cell_type": "code",
   "execution_count": 6,
   "id": "atmospheric-equivalent",
   "metadata": {},
   "outputs": [
    {
     "data": {
      "text/html": [
       "<div>\n",
       "<style scoped>\n",
       "    .dataframe tbody tr th:only-of-type {\n",
       "        vertical-align: middle;\n",
       "    }\n",
       "\n",
       "    .dataframe tbody tr th {\n",
       "        vertical-align: top;\n",
       "    }\n",
       "\n",
       "    .dataframe thead th {\n",
       "        text-align: right;\n",
       "    }\n",
       "</style>\n",
       "<table border=\"1\" class=\"dataframe\">\n",
       "  <thead>\n",
       "    <tr style=\"text-align: right;\">\n",
       "      <th></th>\n",
       "      <th>diasemchuva</th>\n",
       "      <th>precipitacao</th>\n",
       "      <th>riscofogo</th>\n",
       "      <th>latitude</th>\n",
       "      <th>longitude</th>\n",
       "      <th>frp</th>\n",
       "    </tr>\n",
       "  </thead>\n",
       "  <tbody>\n",
       "    <tr>\n",
       "      <th>count</th>\n",
       "      <td>1.367223e+06</td>\n",
       "      <td>1.367223e+06</td>\n",
       "      <td>1.367223e+06</td>\n",
       "      <td>1.368553e+06</td>\n",
       "      <td>1.368553e+06</td>\n",
       "      <td>757417.000000</td>\n",
       "    </tr>\n",
       "    <tr>\n",
       "      <th>mean</th>\n",
       "      <td>9.504688e+00</td>\n",
       "      <td>7.087691e-01</td>\n",
       "      <td>-4.706983e+00</td>\n",
       "      <td>-1.031434e+01</td>\n",
       "      <td>-5.207692e+01</td>\n",
       "      <td>62.193874</td>\n",
       "    </tr>\n",
       "    <tr>\n",
       "      <th>std</th>\n",
       "      <td>8.999016e+01</td>\n",
       "      <td>2.981452e+00</td>\n",
       "      <td>7.363247e+01</td>\n",
       "      <td>6.385679e+00</td>\n",
       "      <td>7.709857e+00</td>\n",
       "      <td>139.726603</td>\n",
       "    </tr>\n",
       "    <tr>\n",
       "      <th>min</th>\n",
       "      <td>-9.990000e+02</td>\n",
       "      <td>0.000000e+00</td>\n",
       "      <td>-9.990000e+02</td>\n",
       "      <td>-3.370900e+01</td>\n",
       "      <td>-7.367366e+01</td>\n",
       "      <td>0.000000</td>\n",
       "    </tr>\n",
       "    <tr>\n",
       "      <th>25%</th>\n",
       "      <td>1.000000e+00</td>\n",
       "      <td>0.000000e+00</td>\n",
       "      <td>5.000000e-01</td>\n",
       "      <td>-1.364400e+01</td>\n",
       "      <td>-5.704700e+01</td>\n",
       "      <td>15.000000</td>\n",
       "    </tr>\n",
       "    <tr>\n",
       "      <th>50%</th>\n",
       "      <td>5.000000e+00</td>\n",
       "      <td>0.000000e+00</td>\n",
       "      <td>1.000000e+00</td>\n",
       "      <td>-9.390000e+00</td>\n",
       "      <td>-5.101300e+01</td>\n",
       "      <td>28.200000</td>\n",
       "    </tr>\n",
       "    <tr>\n",
       "      <th>75%</th>\n",
       "      <td>1.700000e+01</td>\n",
       "      <td>1.000000e-01</td>\n",
       "      <td>1.000000e+00</td>\n",
       "      <td>-6.033000e+00</td>\n",
       "      <td>-4.605900e+01</td>\n",
       "      <td>59.000000</td>\n",
       "    </tr>\n",
       "    <tr>\n",
       "      <th>max</th>\n",
       "      <td>8.270000e+02</td>\n",
       "      <td>1.430000e+02</td>\n",
       "      <td>1.000000e+00</td>\n",
       "      <td>5.154000e+00</td>\n",
       "      <td>-3.481600e+01</td>\n",
       "      <td>9612.200000</td>\n",
       "    </tr>\n",
       "  </tbody>\n",
       "</table>\n",
       "</div>"
      ],
      "text/plain": [
       "        diasemchuva  precipitacao     riscofogo      latitude     longitude  \\\n",
       "count  1.367223e+06  1.367223e+06  1.367223e+06  1.368553e+06  1.368553e+06   \n",
       "mean   9.504688e+00  7.087691e-01 -4.706983e+00 -1.031434e+01 -5.207692e+01   \n",
       "std    8.999016e+01  2.981452e+00  7.363247e+01  6.385679e+00  7.709857e+00   \n",
       "min   -9.990000e+02  0.000000e+00 -9.990000e+02 -3.370900e+01 -7.367366e+01   \n",
       "25%    1.000000e+00  0.000000e+00  5.000000e-01 -1.364400e+01 -5.704700e+01   \n",
       "50%    5.000000e+00  0.000000e+00  1.000000e+00 -9.390000e+00 -5.101300e+01   \n",
       "75%    1.700000e+01  1.000000e-01  1.000000e+00 -6.033000e+00 -4.605900e+01   \n",
       "max    8.270000e+02  1.430000e+02  1.000000e+00  5.154000e+00 -3.481600e+01   \n",
       "\n",
       "                 frp  \n",
       "count  757417.000000  \n",
       "mean       62.193874  \n",
       "std       139.726603  \n",
       "min         0.000000  \n",
       "25%        15.000000  \n",
       "50%        28.200000  \n",
       "75%        59.000000  \n",
       "max      9612.200000  "
      ]
     },
     "execution_count": 6,
     "metadata": {},
     "output_type": "execute_result"
    }
   ],
   "source": [
    "df_focos_queimadas.drop(['satelite', 'pais'], axis=1, inplace=True)\n",
    "df_focos_queimadas.describe()"
   ]
  },
  {
   "cell_type": "markdown",
   "id": "daily-liver",
   "metadata": {},
   "source": [
    "Encontrado vazios (NA) nas colunas diasemchuva, precipitacao, riscofogo e frp."
   ]
  },
  {
   "cell_type": "code",
   "execution_count": 7,
   "id": "different-hypothetical",
   "metadata": {},
   "outputs": [
    {
     "data": {
      "text/plain": [
       "datahora             0\n",
       "estado               0\n",
       "municipio            0\n",
       "bioma                0\n",
       "diasemchuva       1330\n",
       "precipitacao      1330\n",
       "riscofogo         1330\n",
       "latitude             0\n",
       "longitude            0\n",
       "frp             611136\n",
       "dtype: int64"
      ]
     },
     "execution_count": 7,
     "metadata": {},
     "output_type": "execute_result"
    }
   ],
   "source": [
    "df_focos_queimadas.isna().sum()"
   ]
  },
  {
   "cell_type": "code",
   "execution_count": 8,
   "id": "02369b59-9974-4961-8691-b88c883e9e0f",
   "metadata": {},
   "outputs": [
    {
     "data": {
      "text/plain": [
       "0.009718293701449632"
      ]
     },
     "execution_count": 8,
     "metadata": {},
     "output_type": "execute_result"
    }
   ],
   "source": [
    "# diasemchuva, precipitacao, riscofogo\n",
    "\n",
    "(1330 / df_focos_queimadas.size) * 100"
   ]
  },
  {
   "cell_type": "markdown",
   "id": "caf8cb0f-a297-444a-952d-0cacb2a2c95f",
   "metadata": {},
   "source": [
    "No caso das colunas que tem poucos valores vazios (menos de 1%), zerar estes valores não vai causar nenhum prejuízo."
   ]
  },
  {
   "cell_type": "code",
   "execution_count": 9,
   "id": "608eb8e0-48c6-48f2-9634-0b1b43b5505a",
   "metadata": {},
   "outputs": [
    {
     "data": {
      "text/plain": [
       "4.465563262803852"
      ]
     },
     "execution_count": 9,
     "metadata": {},
     "output_type": "execute_result"
    }
   ],
   "source": [
    "# frp\n",
    "\n",
    "(611136 / df_focos_queimadas.size) * 100"
   ]
  },
  {
   "cell_type": "markdown",
   "id": "pleased-valley",
   "metadata": {},
   "source": [
    "No caso do campo `frp`, os dados vazios são cerca de 4% do dataset, mas numa das explicações sobre a coleta de dados dos satélites, este valor nem sempre consegue ser medido, porque pode ter sido uma queimada de baixa intensidade, então ele será mantidado tal como veio."
   ]
  },
  {
   "cell_type": "code",
   "execution_count": 10,
   "id": "brilliant-blocking",
   "metadata": {},
   "outputs": [],
   "source": [
    "# Zerando os valores riscofogo, diasemchuva, precipitacao quando vazios\n",
    "\n",
    "df_focos_queimadas.loc[df_focos_queimadas.diasemchuva.isna(), 'diasemchuva'] = 0\n",
    "df_focos_queimadas.loc[df_focos_queimadas.precipitacao.isna(), 'precipitacao'] = 0\n",
    "df_focos_queimadas.loc[df_focos_queimadas.riscofogo.isna(), 'riscofogo'] = 0"
   ]
  },
  {
   "cell_type": "code",
   "execution_count": 11,
   "id": "6c31d767-d42c-415d-b623-fb62cb8ee1d7",
   "metadata": {},
   "outputs": [
    {
     "data": {
      "text/plain": [
       "datahora             0\n",
       "estado               0\n",
       "municipio            0\n",
       "bioma                0\n",
       "diasemchuva          0\n",
       "precipitacao         0\n",
       "riscofogo            0\n",
       "latitude             0\n",
       "longitude            0\n",
       "frp             611136\n",
       "dtype: int64"
      ]
     },
     "execution_count": 11,
     "metadata": {},
     "output_type": "execute_result"
    }
   ],
   "source": [
    "# conferindo\n",
    "\n",
    "df_focos_queimadas.isna().sum()"
   ]
  },
  {
   "cell_type": "markdown",
   "id": "92fd8899-8093-4ca8-a0d3-60a10633583f",
   "metadata": {},
   "source": [
    "**Converter nome dos estados em UF**\n",
    "\n",
    "Para isso, foi criado um arquivo json, chave-valor, e o objetivo é substituir os nomes dos estados pelas suas UFs, para facilitar a visualização das informações no gráfico, quando houver necessidade de mostrá-los."
   ]
  },
  {
   "cell_type": "code",
   "execution_count": 12,
   "id": "61a558b9-35d4-447d-97e8-ded21cf55aee",
   "metadata": {
    "scrolled": true,
    "tags": []
   },
   "outputs": [
    {
     "data": {
      "text/plain": [
       "{'ACRE': 'AC',\n",
       " 'ALAGOAS': 'AL',\n",
       " 'AMAPA': 'AP',\n",
       " 'AMAZONAS': 'AM',\n",
       " 'BAHIA': 'BA',\n",
       " 'CEARA': 'CE',\n",
       " 'DISTRITO FEDERAL': 'DF',\n",
       " 'ESPIRITO SANTO': 'ES',\n",
       " 'GOIAS': 'GO',\n",
       " 'MARANHAO': 'MA',\n",
       " 'MATO GROSSO': 'MT',\n",
       " 'MATO GROSSO DO SUL': 'MS',\n",
       " 'MINAS GERAIS': 'MG',\n",
       " 'PARA': 'PA',\n",
       " 'PARAIBA': 'PB',\n",
       " 'PARANA': 'PR',\n",
       " 'PERNAMBUCO': 'PE',\n",
       " 'PIAUI': 'PI',\n",
       " 'RIO DE JANEIRO': 'RJ',\n",
       " 'RIO GRANDE DO NORTE': 'RN',\n",
       " 'RIO GRANDE DO SUL': 'RS',\n",
       " 'RONDONIA': 'RO',\n",
       " 'RORAIMA': 'RR',\n",
       " 'SERGIPE': 'SE',\n",
       " 'SANTA CATARINA': 'SC',\n",
       " 'SAO PAULO': 'SP',\n",
       " 'TOCANTINS': 'TO'}"
      ]
     },
     "execution_count": 12,
     "metadata": {},
     "output_type": "execute_result"
    }
   ],
   "source": [
    "with open('dados/estados_map.json', encoding='utf-8') as json_file:\n",
    "    estados_map = json.load(json_file)\n",
    "\n",
    "estados_map"
   ]
  },
  {
   "cell_type": "code",
   "execution_count": 13,
   "id": "3582037e-c54d-43ff-a5f4-a4e6ffd8688d",
   "metadata": {},
   "outputs": [],
   "source": [
    "df_focos_queimadas = df_focos_queimadas.replace({'estado': estados_map})"
   ]
  },
  {
   "cell_type": "markdown",
   "id": "synthetic-membership",
   "metadata": {},
   "source": [
    "**Trabalhando com as datas**\n",
    "\n",
    "Primeiro, se sabe que o fuso horário dos satélites é o GMT (UTC). Como a análise será feita numa região específica do globo, no caso o Brasil, pode-se converter o fuso do campo datahora para o de Brasília (-3 horas em relação ao GMT) que é o considerado o oficial brasileiro."
   ]
  },
  {
   "cell_type": "code",
   "execution_count": 14,
   "id": "natural-rates",
   "metadata": {},
   "outputs": [],
   "source": [
    "# Converter a datahora para um objeto data\n",
    "\n",
    "df_focos_queimadas['datahora'] = pd.to_datetime(df_focos_queimadas['datahora'], errors='coerce')\n",
    "\n",
    "# Converter o objeto datahora para o fuso de SP (que é igual o de Brasilia)\n",
    "\n",
    "df_focos_queimadas['datahora_tz'] = df_focos_queimadas.apply(Funcoes.converter_fuso, axis=1)"
   ]
  },
  {
   "cell_type": "code",
   "execution_count": 15,
   "id": "dbd4ab78-6af5-4d6b-9463-2b958e96e261",
   "metadata": {},
   "outputs": [],
   "source": [
    "# Converter a datahora com fuso de Brasília, para um objeto data\n",
    "\n",
    "df_focos_queimadas['datahora_tz'] = pd.to_datetime(df_focos_queimadas['datahora_tz'], errors='coerce')"
   ]
  },
  {
   "cell_type": "markdown",
   "id": "designed-adobe",
   "metadata": {},
   "source": [
    "Depois será necessário separar data e hora, para facilitar trabalhar com ambos."
   ]
  },
  {
   "cell_type": "code",
   "execution_count": 16,
   "id": "d5a10636-8ec3-46e8-91f7-11ad24c03f50",
   "metadata": {},
   "outputs": [],
   "source": [
    "# Separar a data e e hora em colunas diferentes\n",
    "\n",
    "df_focos_queimadas['data'] = Funcoes.converter_data_hora(df_focos_queimadas, 'datahora_tz', 'data')\n",
    "df_focos_queimadas['hora'] = Funcoes.converter_data_hora(df_focos_queimadas, 'datahora_tz', 'hora')"
   ]
  },
  {
   "cell_type": "code",
   "execution_count": 17,
   "id": "15b645c5-8892-4796-b1ba-9e67e0628c1e",
   "metadata": {},
   "outputs": [],
   "source": [
    "df_focos_queimadas['dia_semana'] = df_focos_queimadas['datahora_tz'].dt.weekday # Dia da semana\n",
    "df_focos_queimadas['mes'] = df_focos_queimadas['datahora_tz'].dt.month # Mês do ano"
   ]
  },
  {
   "cell_type": "code",
   "execution_count": 18,
   "id": "prospective-ivory",
   "metadata": {},
   "outputs": [
    {
     "data": {
      "text/html": [
       "<div>\n",
       "<style scoped>\n",
       "    .dataframe tbody tr th:only-of-type {\n",
       "        vertical-align: middle;\n",
       "    }\n",
       "\n",
       "    .dataframe tbody tr th {\n",
       "        vertical-align: top;\n",
       "    }\n",
       "\n",
       "    .dataframe thead th {\n",
       "        text-align: right;\n",
       "    }\n",
       "</style>\n",
       "<table border=\"1\" class=\"dataframe\">\n",
       "  <thead>\n",
       "    <tr style=\"text-align: right;\">\n",
       "      <th></th>\n",
       "      <th>datahora</th>\n",
       "      <th>estado</th>\n",
       "      <th>municipio</th>\n",
       "      <th>bioma</th>\n",
       "      <th>diasemchuva</th>\n",
       "      <th>precipitacao</th>\n",
       "      <th>riscofogo</th>\n",
       "      <th>latitude</th>\n",
       "      <th>longitude</th>\n",
       "      <th>frp</th>\n",
       "      <th>datahora_tz</th>\n",
       "      <th>data</th>\n",
       "      <th>hora</th>\n",
       "      <th>dia_semana</th>\n",
       "      <th>mes</th>\n",
       "    </tr>\n",
       "  </thead>\n",
       "  <tbody>\n",
       "    <tr>\n",
       "      <th>0</th>\n",
       "      <td>2015-11-07 16:30:00</td>\n",
       "      <td>PA</td>\n",
       "      <td>PORTEL</td>\n",
       "      <td>Amazonia</td>\n",
       "      <td>4.0</td>\n",
       "      <td>0.1</td>\n",
       "      <td>0.6</td>\n",
       "      <td>-2.245</td>\n",
       "      <td>-50.667</td>\n",
       "      <td>NaN</td>\n",
       "      <td>2015-11-07 14:30:00</td>\n",
       "      <td>2015-11-07</td>\n",
       "      <td>14:30:00</td>\n",
       "      <td>5</td>\n",
       "      <td>11</td>\n",
       "    </tr>\n",
       "    <tr>\n",
       "      <th>1</th>\n",
       "      <td>2015-04-02 16:46:00</td>\n",
       "      <td>TO</td>\n",
       "      <td>PEIXE</td>\n",
       "      <td>Cerrado</td>\n",
       "      <td>1.0</td>\n",
       "      <td>0.1</td>\n",
       "      <td>0.3</td>\n",
       "      <td>-11.994</td>\n",
       "      <td>-48.548</td>\n",
       "      <td>NaN</td>\n",
       "      <td>2015-04-02 13:46:00</td>\n",
       "      <td>2015-04-02</td>\n",
       "      <td>13:46:00</td>\n",
       "      <td>3</td>\n",
       "      <td>4</td>\n",
       "    </tr>\n",
       "    <tr>\n",
       "      <th>2</th>\n",
       "      <td>2015-03-23 17:47:00</td>\n",
       "      <td>MT</td>\n",
       "      <td>FELIZ NATAL</td>\n",
       "      <td>Amazonia</td>\n",
       "      <td>3.0</td>\n",
       "      <td>0.4</td>\n",
       "      <td>0.2</td>\n",
       "      <td>-12.185</td>\n",
       "      <td>-54.405</td>\n",
       "      <td>NaN</td>\n",
       "      <td>2015-03-23 14:47:00</td>\n",
       "      <td>2015-03-23</td>\n",
       "      <td>14:47:00</td>\n",
       "      <td>0</td>\n",
       "      <td>3</td>\n",
       "    </tr>\n",
       "    <tr>\n",
       "      <th>3</th>\n",
       "      <td>2015-02-21 17:39:00</td>\n",
       "      <td>RR</td>\n",
       "      <td>IRACEMA</td>\n",
       "      <td>Amazonia</td>\n",
       "      <td>20.0</td>\n",
       "      <td>0.0</td>\n",
       "      <td>1.0</td>\n",
       "      <td>2.247</td>\n",
       "      <td>-61.527</td>\n",
       "      <td>NaN</td>\n",
       "      <td>2015-02-21 15:39:00</td>\n",
       "      <td>2015-02-21</td>\n",
       "      <td>15:39:00</td>\n",
       "      <td>5</td>\n",
       "      <td>2</td>\n",
       "    </tr>\n",
       "    <tr>\n",
       "      <th>4</th>\n",
       "      <td>2015-08-02 17:25:00</td>\n",
       "      <td>PA</td>\n",
       "      <td>ORIXIMINA</td>\n",
       "      <td>Amazonia</td>\n",
       "      <td>0.0</td>\n",
       "      <td>0.1</td>\n",
       "      <td>0.8</td>\n",
       "      <td>-1.754</td>\n",
       "      <td>-55.686</td>\n",
       "      <td>NaN</td>\n",
       "      <td>2015-08-02 14:25:00</td>\n",
       "      <td>2015-08-02</td>\n",
       "      <td>14:25:00</td>\n",
       "      <td>6</td>\n",
       "      <td>8</td>\n",
       "    </tr>\n",
       "  </tbody>\n",
       "</table>\n",
       "</div>"
      ],
      "text/plain": [
       "             datahora estado    municipio     bioma  diasemchuva  \\\n",
       "0 2015-11-07 16:30:00     PA       PORTEL  Amazonia          4.0   \n",
       "1 2015-04-02 16:46:00     TO        PEIXE   Cerrado          1.0   \n",
       "2 2015-03-23 17:47:00     MT  FELIZ NATAL  Amazonia          3.0   \n",
       "3 2015-02-21 17:39:00     RR      IRACEMA  Amazonia         20.0   \n",
       "4 2015-08-02 17:25:00     PA    ORIXIMINA  Amazonia          0.0   \n",
       "\n",
       "   precipitacao  riscofogo  latitude  longitude  frp         datahora_tz  \\\n",
       "0           0.1        0.6    -2.245    -50.667  NaN 2015-11-07 14:30:00   \n",
       "1           0.1        0.3   -11.994    -48.548  NaN 2015-04-02 13:46:00   \n",
       "2           0.4        0.2   -12.185    -54.405  NaN 2015-03-23 14:47:00   \n",
       "3           0.0        1.0     2.247    -61.527  NaN 2015-02-21 15:39:00   \n",
       "4           0.1        0.8    -1.754    -55.686  NaN 2015-08-02 14:25:00   \n",
       "\n",
       "         data      hora  dia_semana  mes  \n",
       "0  2015-11-07  14:30:00           5   11  \n",
       "1  2015-04-02  13:46:00           3    4  \n",
       "2  2015-03-23  14:47:00           0    3  \n",
       "3  2015-02-21  15:39:00           5    2  \n",
       "4  2015-08-02  14:25:00           6    8  "
      ]
     },
     "execution_count": 18,
     "metadata": {},
     "output_type": "execute_result"
    }
   ],
   "source": [
    "df_focos_queimadas.head(5)"
   ]
  },
  {
   "cell_type": "markdown",
   "id": "short-northern",
   "metadata": {},
   "source": [
    "**Risco fogo**\n",
    "\n",
    "Vamos adicionar a coluna `riscofogo_nivel` para classificar os níveis do risco de fogo, que o próprio instituto utiliza: \n",
    "\n",
    "- Mínimo: abaixo de 0,15; \n",
    "- Baixo: de 0,15 a 0,4; \n",
    "- Médio: de 0,4 a 0,7; \n",
    "- Alto: de 0,7 a 0,95 ; \n",
    "- Crítico: acima de 0,95 até 1."
   ]
  },
  {
   "cell_type": "code",
   "execution_count": 19,
   "id": "978e5a7b-899d-4c3e-aa6e-6edb8fe5da5c",
   "metadata": {},
   "outputs": [],
   "source": [
    "df_focos_queimadas['riscofogo_nivel'] = df_focos_queimadas.apply(Funcoes.classificar_risco_fogo, axis=1)"
   ]
  },
  {
   "cell_type": "markdown",
   "id": "867fa4b6-f623-4908-9d4f-88423ab12a1b",
   "metadata": {},
   "source": [
    "Vamos adicionar a coluna `riscofogo_categoria` para fazer uma classificação binária\n",
    "\n",
    "- Abaixo de 0,7: 0 (Mínimo, Baixo, Médio)\n",
    "- Acima de 0,7: 1 (Alto, Crítico)\n"
   ]
  },
  {
   "cell_type": "code",
   "execution_count": 20,
   "id": "worst-field",
   "metadata": {},
   "outputs": [],
   "source": [
    "df_focos_queimadas['riscofogo_categoria'] = df_focos_queimadas.apply(Funcoes.categorizar_risco_fogo, axis=1)"
   ]
  },
  {
   "cell_type": "markdown",
   "id": "557a0013-3519-44cc-b191-e516793260ec",
   "metadata": {},
   "source": [
    "---\n",
    "\n",
    "**Tratamento de dados para os modelos de machine learning**\n",
    "\n",
    "Será criada uma cópia do dataframe anterior para preparar os dados para os modelos de machine learning. O dataframe original, será utilizado para a exploração de dados."
   ]
  },
  {
   "cell_type": "code",
   "execution_count": 21,
   "id": "39224160-7c9e-4f28-880e-dcac49760493",
   "metadata": {},
   "outputs": [],
   "source": [
    "from sklearn.preprocessing import LabelEncoder, OneHotEncoder"
   ]
  },
  {
   "cell_type": "code",
   "execution_count": 22,
   "id": "17e02894-c375-4858-8acf-45da22203373",
   "metadata": {},
   "outputs": [],
   "source": [
    "df_focos_queimadas_ml = df_focos_queimadas.copy()"
   ]
  },
  {
   "cell_type": "code",
   "execution_count": 23,
   "id": "64db51c4-ce54-44eb-92e6-c4f6bd65c0e7",
   "metadata": {},
   "outputs": [],
   "source": [
    "# Excluir colunas que não serão utilizadas\n",
    "\n",
    "df_focos_queimadas_ml.drop(['datahora', 'datahora_tz', 'data', 'hora', 'latitude', 'longitude'], axis=1, inplace=True)"
   ]
  },
  {
   "cell_type": "code",
   "execution_count": 24,
   "id": "99165afb-253e-4704-b6a8-66278cc0b471",
   "metadata": {},
   "outputs": [],
   "source": [
    "labelencoder = LabelEncoder()"
   ]
  },
  {
   "cell_type": "code",
   "execution_count": 25,
   "id": "77be719f-139b-45ed-b833-6af3af99865a",
   "metadata": {},
   "outputs": [],
   "source": [
    "# Transformar os níveis de fogo em ids\n",
    "\n",
    "df_focos_queimadas_ml['riscofogo_nivel_id'] = labelencoder.fit_transform(df_focos_queimadas_ml['riscofogo_nivel'])"
   ]
  },
  {
   "cell_type": "code",
   "execution_count": 26,
   "id": "9fdabd0b-2c6a-49c4-b64a-15c2f173bba9",
   "metadata": {},
   "outputs": [],
   "source": [
    "# Transformar os municipios em ids\n",
    "\n",
    "df_focos_queimadas_ml['municipio_id'] = labelencoder.fit_transform(df_focos_queimadas_ml['municipio'])"
   ]
  },
  {
   "cell_type": "markdown",
   "id": "6af7b9d7-a085-4d94-9400-5dd7c2adb6ab",
   "metadata": {},
   "source": [
    "Transformar as colunas a seguir em colunas dummy, isso impede que elas sejam lidas pelo algoritmo como ordinais."
   ]
  },
  {
   "cell_type": "code",
   "execution_count": 27,
   "id": "2764c440-9706-4572-be28-1553b0c0005a",
   "metadata": {},
   "outputs": [],
   "source": [
    "_df1 = pd.get_dummies(df_focos_queimadas_ml['bioma'], prefix=\"bioma\")\n",
    "_df2 = pd.get_dummies(df_focos_queimadas_ml['estado'], prefix=\"estado\")"
   ]
  },
  {
   "cell_type": "code",
   "execution_count": 28,
   "id": "02637bda-b5c3-4b2e-a5e4-f8f1ae01dff0",
   "metadata": {},
   "outputs": [],
   "source": [
    "df_focos_queimadas_ml = pd.concat([df_focos_queimadas_ml, _df1], axis=1)\n",
    "df_focos_queimadas_ml = pd.concat([df_focos_queimadas_ml, _df2], axis=1)"
   ]
  },
  {
   "cell_type": "code",
   "execution_count": 29,
   "id": "6d87bfae-5e7b-4b0c-9a18-9521e7476391",
   "metadata": {},
   "outputs": [],
   "source": [
    "# Excluir colunas não utilizadas\n",
    "\n",
    "df_focos_queimadas_ml.drop(['riscofogo_nivel', 'municipio', 'bioma', 'estado'], axis=1, inplace=True)"
   ]
  },
  {
   "cell_type": "code",
   "execution_count": 30,
   "id": "6097d25d-4da9-4547-ae71-c1822641aafc",
   "metadata": {},
   "outputs": [
    {
     "data": {
      "text/html": [
       "<div>\n",
       "<style scoped>\n",
       "    .dataframe tbody tr th:only-of-type {\n",
       "        vertical-align: middle;\n",
       "    }\n",
       "\n",
       "    .dataframe tbody tr th {\n",
       "        vertical-align: top;\n",
       "    }\n",
       "\n",
       "    .dataframe thead th {\n",
       "        text-align: right;\n",
       "    }\n",
       "</style>\n",
       "<table border=\"1\" class=\"dataframe\">\n",
       "  <thead>\n",
       "    <tr style=\"text-align: right;\">\n",
       "      <th></th>\n",
       "      <th>diasemchuva</th>\n",
       "      <th>precipitacao</th>\n",
       "      <th>riscofogo</th>\n",
       "      <th>frp</th>\n",
       "      <th>dia_semana</th>\n",
       "      <th>mes</th>\n",
       "      <th>riscofogo_categoria</th>\n",
       "      <th>riscofogo_nivel_id</th>\n",
       "      <th>municipio_id</th>\n",
       "      <th>bioma_Amazonia</th>\n",
       "      <th>...</th>\n",
       "      <th>estado_PR</th>\n",
       "      <th>estado_RJ</th>\n",
       "      <th>estado_RN</th>\n",
       "      <th>estado_RO</th>\n",
       "      <th>estado_RR</th>\n",
       "      <th>estado_RS</th>\n",
       "      <th>estado_SC</th>\n",
       "      <th>estado_SE</th>\n",
       "      <th>estado_SP</th>\n",
       "      <th>estado_TO</th>\n",
       "    </tr>\n",
       "  </thead>\n",
       "  <tbody>\n",
       "    <tr>\n",
       "      <th>0</th>\n",
       "      <td>4.0</td>\n",
       "      <td>0.1</td>\n",
       "      <td>0.6</td>\n",
       "      <td>NaN</td>\n",
       "      <td>5</td>\n",
       "      <td>11</td>\n",
       "      <td>0</td>\n",
       "      <td>3</td>\n",
       "      <td>3660</td>\n",
       "      <td>1</td>\n",
       "      <td>...</td>\n",
       "      <td>0</td>\n",
       "      <td>0</td>\n",
       "      <td>0</td>\n",
       "      <td>0</td>\n",
       "      <td>0</td>\n",
       "      <td>0</td>\n",
       "      <td>0</td>\n",
       "      <td>0</td>\n",
       "      <td>0</td>\n",
       "      <td>0</td>\n",
       "    </tr>\n",
       "    <tr>\n",
       "      <th>1</th>\n",
       "      <td>1.0</td>\n",
       "      <td>0.1</td>\n",
       "      <td>0.3</td>\n",
       "      <td>NaN</td>\n",
       "      <td>3</td>\n",
       "      <td>4</td>\n",
       "      <td>0</td>\n",
       "      <td>1</td>\n",
       "      <td>3458</td>\n",
       "      <td>0</td>\n",
       "      <td>...</td>\n",
       "      <td>0</td>\n",
       "      <td>0</td>\n",
       "      <td>0</td>\n",
       "      <td>0</td>\n",
       "      <td>0</td>\n",
       "      <td>0</td>\n",
       "      <td>0</td>\n",
       "      <td>0</td>\n",
       "      <td>0</td>\n",
       "      <td>1</td>\n",
       "    </tr>\n",
       "    <tr>\n",
       "      <th>2</th>\n",
       "      <td>3.0</td>\n",
       "      <td>0.4</td>\n",
       "      <td>0.2</td>\n",
       "      <td>NaN</td>\n",
       "      <td>0</td>\n",
       "      <td>3</td>\n",
       "      <td>0</td>\n",
       "      <td>1</td>\n",
       "      <td>1635</td>\n",
       "      <td>1</td>\n",
       "      <td>...</td>\n",
       "      <td>0</td>\n",
       "      <td>0</td>\n",
       "      <td>0</td>\n",
       "      <td>0</td>\n",
       "      <td>0</td>\n",
       "      <td>0</td>\n",
       "      <td>0</td>\n",
       "      <td>0</td>\n",
       "      <td>0</td>\n",
       "      <td>0</td>\n",
       "    </tr>\n",
       "    <tr>\n",
       "      <th>3</th>\n",
       "      <td>20.0</td>\n",
       "      <td>0.0</td>\n",
       "      <td>1.0</td>\n",
       "      <td>NaN</td>\n",
       "      <td>5</td>\n",
       "      <td>2</td>\n",
       "      <td>1</td>\n",
       "      <td>2</td>\n",
       "      <td>2091</td>\n",
       "      <td>1</td>\n",
       "      <td>...</td>\n",
       "      <td>0</td>\n",
       "      <td>0</td>\n",
       "      <td>0</td>\n",
       "      <td>0</td>\n",
       "      <td>1</td>\n",
       "      <td>0</td>\n",
       "      <td>0</td>\n",
       "      <td>0</td>\n",
       "      <td>0</td>\n",
       "      <td>0</td>\n",
       "    </tr>\n",
       "    <tr>\n",
       "      <th>4</th>\n",
       "      <td>0.0</td>\n",
       "      <td>0.1</td>\n",
       "      <td>0.8</td>\n",
       "      <td>NaN</td>\n",
       "      <td>6</td>\n",
       "      <td>8</td>\n",
       "      <td>1</td>\n",
       "      <td>0</td>\n",
       "      <td>3210</td>\n",
       "      <td>1</td>\n",
       "      <td>...</td>\n",
       "      <td>0</td>\n",
       "      <td>0</td>\n",
       "      <td>0</td>\n",
       "      <td>0</td>\n",
       "      <td>0</td>\n",
       "      <td>0</td>\n",
       "      <td>0</td>\n",
       "      <td>0</td>\n",
       "      <td>0</td>\n",
       "      <td>0</td>\n",
       "    </tr>\n",
       "  </tbody>\n",
       "</table>\n",
       "<p>5 rows × 42 columns</p>\n",
       "</div>"
      ],
      "text/plain": [
       "   diasemchuva  precipitacao  riscofogo  frp  dia_semana  mes  \\\n",
       "0          4.0           0.1        0.6  NaN           5   11   \n",
       "1          1.0           0.1        0.3  NaN           3    4   \n",
       "2          3.0           0.4        0.2  NaN           0    3   \n",
       "3         20.0           0.0        1.0  NaN           5    2   \n",
       "4          0.0           0.1        0.8  NaN           6    8   \n",
       "\n",
       "   riscofogo_categoria  riscofogo_nivel_id  municipio_id  bioma_Amazonia  ...  \\\n",
       "0                    0                   3          3660               1  ...   \n",
       "1                    0                   1          3458               0  ...   \n",
       "2                    0                   1          1635               1  ...   \n",
       "3                    1                   2          2091               1  ...   \n",
       "4                    1                   0          3210               1  ...   \n",
       "\n",
       "   estado_PR  estado_RJ  estado_RN  estado_RO  estado_RR  estado_RS  \\\n",
       "0          0          0          0          0          0          0   \n",
       "1          0          0          0          0          0          0   \n",
       "2          0          0          0          0          0          0   \n",
       "3          0          0          0          0          1          0   \n",
       "4          0          0          0          0          0          0   \n",
       "\n",
       "   estado_SC  estado_SE  estado_SP  estado_TO  \n",
       "0          0          0          0          0  \n",
       "1          0          0          0          1  \n",
       "2          0          0          0          0  \n",
       "3          0          0          0          0  \n",
       "4          0          0          0          0  \n",
       "\n",
       "[5 rows x 42 columns]"
      ]
     },
     "execution_count": 30,
     "metadata": {},
     "output_type": "execute_result"
    }
   ],
   "source": [
    "df_focos_queimadas_ml.head()"
   ]
  }
 ],
 "metadata": {
  "kernelspec": {
   "display_name": "Python 3 (ipykernel)",
   "language": "python",
   "name": "python3"
  },
  "language_info": {
   "codemirror_mode": {
    "name": "ipython",
    "version": 3
   },
   "file_extension": ".py",
   "mimetype": "text/x-python",
   "name": "python",
   "nbconvert_exporter": "python",
   "pygments_lexer": "ipython3",
   "version": "3.10.4"
  }
 },
 "nbformat": 4,
 "nbformat_minor": 5
}
